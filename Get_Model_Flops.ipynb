{
 "cells": [
  {
   "cell_type": "code",
   "execution_count": 9,
   "metadata": {},
   "outputs": [],
   "source": [
    "%matplotlib inline\n",
    "\n",
    "import cv2\n",
    "import numpy as np\n",
    "import matplotlib.pyplot as plt\n",
    "import matplotlib\n",
    "import argparse\n",
    "import datetime\n",
    "import importlib\n",
    "import os\n",
    "import tensorflow as tf\n",
    "import yaml\n",
    "import math\n",
    "from train_utils import *\n",
    "from tensorflow.python.framework import graph_util\n",
    "os.environ[\"CUDA_VISIBLE_DEVICES\"]=\"0\""
   ]
  },
  {
   "cell_type": "code",
   "execution_count": 40,
   "metadata": {},
   "outputs": [
    {
     "name": "stderr",
     "output_type": "stream",
     "text": [
      "/nethome/shickson3/anaconda2/lib/python2.7/site-packages/ipykernel_launcher.py:2: YAMLLoadWarning: calling yaml.load() without Loader=... is deprecated, as the default Loader is unsafe. Please read https://msg.pyyaml.org/load for full details.\n",
      "  \n"
     ]
    }
   ],
   "source": [
    "file_address = open('config/scenenet/test/labels.config')\n",
    "config = yaml.load(file_address)"
   ]
  },
  {
   "cell_type": "code",
   "execution_count": 41,
   "metadata": {},
   "outputs": [
    {
     "name": "stdout",
     "output_type": "stream",
     "text": [
      "Network_Construction\n",
      "total_variables_loaded: 383\n"
     ]
    }
   ],
   "source": [
    "module = importlib.import_module('models.' + config['model'])\n",
    "model_func = getattr(module, config['model'])\n",
    "dataset_name = config['dataset_name']\n",
    "helper = get_dataset(config)\n",
    "#helper.Setup(config)\n",
    "modality_infos, num_label_classes = extract_modalities(config)\n",
    "data_list, iterator = helper.get_test_data(config, num_label_classes)\n",
    "resnet_name = 'resnet_v2_50'\n",
    "\n",
    "with tf.variable_scope(resnet_name):\n",
    "    model = model_func(modality_infos=modality_infos, training=False)\n",
    "    images_pl, depths_pl, normals_pl, labels_pl, update_ops = setup_model_flops(model, config, train=False)\n",
    "\n",
    "config1 = tf.ConfigProto()\n",
    "#config1.gpu_options.allow_growth = True\n",
    "sess = tf.Session(config=config1)\n",
    "sess.run(tf.global_variables_initializer())\n",
    "import_variables = tf.get_collection(tf.GraphKeys.GLOBAL_VARIABLES)\n",
    "print 'total_variables_loaded:', len(import_variables)\n",
    "#output_graph_def = graph_util.convert_variables_to_constants(sess, tf.get_default_graph().as_graph_def(), ['resnet_v2_50/normals/conv5/batchnorm_1/add_1','resnet_v2_50/Softmax'])\n",
    "#\n",
    "#with tf.gfile.GFile('/dev/shm/graph.pb', \"wb\") as f:\n",
    "#    f.write(output_graph_def.SerializeToString())"
   ]
  },
  {
   "cell_type": "code",
   "execution_count": 42,
   "metadata": {},
   "outputs": [
    {
     "name": "stdout",
     "output_type": "stream",
     "text": [
      "('FLOP = ', 40830254434L)\n"
     ]
    }
   ],
   "source": [
    "#def load_pb(pb):\n",
    "#    with tf.gfile.GFile(pb, \"rb\") as f:\n",
    "#        graph_def = tf.GraphDef()\n",
    "#        graph_def.ParseFromString(f.read())\n",
    "#    with tf.Graph().as_default() as graph:\n",
    "#        tf.import_graph_def(graph_def, name='')\n",
    "#        return graph\n",
    "\n",
    "#g2 = load_pb('/dev/shm/graph.pb')\n",
    "#with g2.as_default():\n",
    "#    run_metadata = tf.RunMetadata()\n",
    "#    flops = tf.profiler.profile(g2, options=tf.profiler.ProfileOptionBuilder.float_operation())\n",
    "#print('FLOP = ', flops.total_float_ops)\n",
    "\n",
    "run_metadata = tf.RunMetadata()\n",
    "flops = tf.profiler.profile(tf.get_default_graph(), options=tf.profiler.ProfileOptionBuilder.float_operation())\n",
    "print('FLOP = ', flops.total_float_ops)"
   ]
  },
  {
   "cell_type": "code",
   "execution_count": 43,
   "metadata": {},
   "outputs": [],
   "source": [
    "tf.reset_default_graph()"
   ]
  },
  {
   "cell_type": "code",
   "execution_count": 44,
   "metadata": {},
   "outputs": [],
   "source": [
    "#for n in tf.get_default_graph().as_graph_def().node:\n",
    "#    print n.name"
   ]
  },
  {
   "cell_type": "code",
   "execution_count": null,
   "metadata": {},
   "outputs": [],
   "source": []
  }
 ],
 "metadata": {
  "kernelspec": {
   "display_name": "Python 2",
   "language": "python",
   "name": "python2"
  },
  "language_info": {
   "codemirror_mode": {
    "name": "ipython",
    "version": 2
   },
   "file_extension": ".py",
   "mimetype": "text/x-python",
   "name": "python",
   "nbconvert_exporter": "python",
   "pygments_lexer": "ipython2",
   "version": "2.7.16"
  }
 },
 "nbformat": 4,
 "nbformat_minor": 2
}
